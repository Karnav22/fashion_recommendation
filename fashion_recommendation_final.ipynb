{
 "cells": [
  {
   "cell_type": "code",
   "execution_count": null,
   "metadata": {
    "colab": {
     "base_uri": "https://localhost:8080/"
    },
    "id": "JdmUKkbibZQa",
    "outputId": "c6ea4e70-4ca3-451d-e0e0-8e1ee5ccb587"
   },
   "outputs": [],
   "source": [
    "#from google.colab import drive\n",
    "#drive.mount('/content/drive')\n"
   ]
  },
  {
   "cell_type": "code",
   "execution_count": null,
   "metadata": {
    "id": "Uwi9aXx4npO1"
   },
   "outputs": [],
   "source": [
    "#import os\n",
    "#os.environ['KAGGLE_CONFIG_DIR'] = '/content/drive/MyDrive/kaggle'\n"
   ]
  },
  {
   "cell_type": "code",
   "execution_count": null,
   "metadata": {
    "colab": {
     "base_uri": "https://localhost:8080/"
    },
    "id": "xX5GTQ-n7vbt",
    "outputId": "82ec498b-5745-4055-d82f-3603d203f45e"
   },
   "outputs": [],
   "source": [
    "#from google.colab import drive\n",
    "#drive.mount('/content/drive')"
   ]
  },
  {
   "cell_type": "code",
   "execution_count": null,
   "metadata": {
    "colab": {
     "base_uri": "https://localhost:8080/"
    },
    "id": "4dDrJiTroAry",
    "outputId": "87e70adb-bb9c-43ba-ed1f-6aa5ede89532"
   },
   "outputs": [],
   "source": [
    "#!kaggle datasets download -d vikashrajluhaniwal/fashion-images"
   ]
  },
  {
   "cell_type": "code",
   "execution_count": null,
   "metadata": {
    "colab": {
     "base_uri": "https://localhost:8080/",
     "height": 315
    },
    "id": "QpIE6JHAoT6Q",
    "outputId": "622ea180-52b9-4b6f-edfa-4701cbb11c25"
   },
   "outputs": [],
   "source": [
    "import zipfile\n",
    "\n",
    "file_path = 'archive.zip'\n",
    "\n",
    "with zipfile.ZipFile(file_path, 'r') as zip_ref:\n",
    "    zip_ref.extractall('downloads/archive')"
   ]
  },
  {
   "cell_type": "code",
   "execution_count": null,
   "metadata": {
    "id": "toc5SPWNJQg1"
   },
   "outputs": [],
   "source": [
    "#!pip install tensorflow\n",
    "import tensorflow\n",
    "from tensorflow.keras.preprocessing import image\n",
    "from tensorflow.keras.layers import GlobalMaxPooling2D\n",
    "from tensorflow.keras.applications.resnet50 import ResNet50,preprocess_input\n",
    "import numpy as np\n",
    "from numpy.linalg import norm\n",
    "import os\n",
    "from tqdm import tqdm\n",
    "import pickle"
   ]
  },
  {
   "cell_type": "markdown",
   "metadata": {
    "id": "-P_ENnL70rzc"
   },
   "source": [
    "**Import Model**"
   ]
  },
  {
   "cell_type": "code",
   "execution_count": null,
   "metadata": {
    "id": "XINshru9MNQs"
   },
   "outputs": [],
   "source": [
    "from tensorflow.keras.applications.resnet50 import ResNet50,preprocess_input\n",
    "\n",
    "model=ResNet50(weights='imagenet',include_top=False,input_shape=(224,224,3))\n",
    "model.trainable=False\n",
    "\n",
    "model=tensorflow.keras.Sequential([\n",
    "    model,\n",
    "    GlobalMaxPooling2D()\n",
    "])\n",
    "print(model.summary())"
   ]
  },
  {
   "cell_type": "markdown",
   "metadata": {
    "id": "8gRfuE030v-d"
   },
   "source": [
    "**Feature Extraction**"
   ]
  },
  {
   "cell_type": "code",
   "execution_count": null,
   "metadata": {
    "id": "wkF1yZ6ROwmo"
   },
   "outputs": [],
   "source": [
    "import os\n",
    "\n",
    "def extract_features(img_path,model):\n",
    "  img=image.load_img(img_path,target_size=(224,224))\n",
    "  img_arr=image.img_to_array(img)\n",
    "  expanded_arr=np.expand_dims(img_arr,axis=0)\n",
    "  preprocessing_img=preprocess_input(expanded_arr)\n",
    "  result=model.predict(preprocessing_img).flatten()\n",
    "  normalized_result=result/norm(norm(result))\n",
    "\n",
    "  return normalized_result\n"
   ]
  },
  {
   "cell_type": "code",
   "execution_count": null,
   "metadata": {
    "id": "ahFEG61uSabj"
   },
   "outputs": [
    {
     "name": "stdout",
     "output_type": "stream",
     "text": [
      "['4203.jpg', '38491.jpg', '24906.jpg', '24912.jpg', '36325.jpg', '39002.jpg', '36319.jpg', '39758.jpg', '34056.jpg', '34042.jpg', '31112.jpg', '40933.jpg', '31106.jpg', '40927.jpg', '5486.jpg', '31099.jpg', '3815.jpg', '36721.jpg', '38283.jpg', '39837.jpg', '41754.jpg', '41967.jpg', '37173.jpg', '37167.jpg', '37601.jpg', '37600.jpg', '37172.jpg', '35995.jpg', '41966.jpg', '38282.jpg', '24873.jpg', '37199.jpg', '36720.jpg', '3814.jpg', '31098.jpg', '40926.jpg', '31107.jpg', '31113.jpg', '34043.jpg', '34057.jpg', '46833.jpg', '39759.jpg', '33260.jpg', '36318.jpg', '39003.jpg', '36324.jpg', '24913.jpg', '38490.jpg', '24907.jpg', '4202.jpg', '21843.jpg', '4200.jpg', '8348.jpg', '24911.jpg', '38492.jpg', '38479.jpg', '39001.jpg', '36326.jpg', '46831.jpg', '33262.jpg', '34096.jpg', '35439.jpg', '34041.jpg', '34055.jpg', '22637.jpg', '31105.jpg', '40924.jpg', '31111.jpg', '43587.jpg', '10054.jpg', '40139.jpg', '36722.jpg', '3816.jpg', '4189.jpg', '39834.jpg', '41970.jpg', '35997.jpg', '33302.jpg', '41958.jpg', '41959.jpg', '33303.jpg', '41965.jpg', '35996.jpg', '2738.jpg', '4188.jpg', '3817.jpg', '36723.jpg', '40138.jpg', '31110.jpg', '40925.jpg', '31104.jpg', '34054.jpg', '35438.jpg', '34040.jpg', '5447.jpg', '34097.jpg', '33263.jpg', '33277.jpg', '31448.jpg', '38478.jpg', '38493.jpg', '24910.jpg', '8349.jpg', '4201.jpg', '50713.jpg', '24914.jpg', '38497.jpg', '50717.jpg', '4205.jpg', '4211.jpg', '36323.jpg', '31100.jpg', '43582.jpg', '31114.jpg', '34044.jpg', '34050.jpg', '38939.jpg', '4198.jpg', '3807.jpg', '33139.jpg', '3813.jpg', '41752.jpg', '24874.jpg', '22587.jpg', '2714.jpg', '33307.jpg', '38246.jpg', '41961.jpg', '41960.jpg', '23129.jpg', '38247.jpg', '33306.jpg', '22586.jpg', '41747.jpg', '38284.jpg', '41753.jpg', '36726.jpg', '3806.jpg', '33138.jpg', '4199.jpg', '38938.jpg', '40129.jpg', '34051.jpg', '34045.jpg', '40934.jpg', '31115.jpg', '31101.jpg', '36322.jpg', '4210.jpg', '4204.jpg', '52129.jpg', '38496.jpg', '38494.jpg', '38480.jpg', '4206.jpg', '50714.jpg', '33264.jpg', '39749.jpg', '36320.jpg', '37599.jpg', '43581.jpg', '54957.jpg', '31103.jpg', '40922.jpg', '34053.jpg', '48239.jpg', '34682.jpg', '36718.jpg', '3810.jpg', '29176.jpg', '36724.jpg', '41745.jpg', '41751.jpg', '41989.jpg', '33304.jpg', '18181.jpg', '41962.jpg', '41977.jpg', '18180.jpg', '33305.jpg', '37188.jpg', '41988.jpg', '41750.jpg', '36725.jpg', '3811.jpg', '29177.jpg', '36719.jpg', '48238.jpg', '34683.jpg', '41234.jpg', '34046.jpg', '34052.jpg', '40923.jpg', '31102.jpg', '31116.jpg', '37598.jpg', '5455.jpg', '36321.jpg', '33259.jpg', '50715.jpg', '4207.jpg', '8328.jpg', '58460.jpg', '15574.jpg', '32646.jpg', '35883.jpg', '30723.jpg', '17613.jpg', '5426.jpg', '40987.jpg', '34035.jpg', '35459.jpg', '34021.jpg', '31159.jpg', '37528.jpg', '40978.jpg', '40950.jpg', '37514.jpg', '34182.jpg', '38960.jpg', '39317.jpg', '39840.jpg', '39854.jpg', '43685.jpg', '43690.jpg', '39855.jpg', '34168.jpg', '39316.jpg', '38961.jpg', '34183.jpg', '37515.jpg', '31164.jpg', '40951.jpg', '35458.jpg', '40979.jpg', '37529.jpg', '31158.jpg', '34020.jpg', '34034.jpg', '13306.jpg', '5427.jpg', '40986.jpg', '30722.jpg', '35882.jpg', '35896.jpg', '32647.jpg', '15575.jpg', '15577.jpg', '35880.jpg', '30720.jpg', '35894.jpg', '5419.jpg', '40984.jpg', '5425.jpg', '5431.jpg', '34022.jpg', '34036.jpg', '31166.jpg', '40947.jpg', '54932.jpg', '40953.jpg', '48248.jpg', '34181.jpg', '38988.jpg', '4465.jpg', '3322.jpg', '39857.jpg', '39843.jpg', '43686.jpg', '43692.jpg', '43693.jpg', '25516.jpg', '39856.jpg', '4464.jpg', '38989.jpg', '39315.jpg', '34180.jpg', '40952.jpg', '54933.jpg', '37516.jpg', '34037.jpg', '34023.jpg', '5430.jpg', '40985.jpg', '5424.jpg', '35895.jpg', '30721.jpg', '35881.jpg', '15576.jpg', '15572.jpg', '21833.jpg', '38345.jpg', '35885.jpg', '35891.jpg', '5420.jpg', '17615.jpg', '37512.jpg', '40956.jpg', '34027.jpg', '34033.jpg', '34190.jpg', '34184.jpg', '48259.jpg', '38999.jpg', '34147.jpg', '43697.jpg', '36208.jpg', '36209.jpg', '43696.jpg', '43682.jpg', '3332.jpg', '39853.jpg', '48258.jpg', '34185.jpg', '40162.jpg', '34191.jpg', '34032.jpg', '34026.jpg', '40957.jpg', '37513.jpg', '17614.jpg', '5421.jpg', '40980.jpg', '35890.jpg', '30724.jpg', '35884.jpg', '38344.jpg', '30718.jpg', '15573.jpg', '15571.jpg', '35879.jpg', '58459.jpg', '8339.jpg', '38346.jpg', '35892.jpg', '35886.jpg', '4729.jpg', '40982.jpg', '5423.jpg', '40955.jpg', '37511.jpg', '34018.jpg', '35460.jpg', '31148.jpg', '37539.jpg', '34030.jpg', '34024.jpg', '38959.jpg', '40160.jpg', '34187.jpg', '34178.jpg', '36747.jpg', '3324.jpg', '25505.jpg', '25504.jpg', '43695.jpg', '39844.jpg', '36746.jpg', '34179.jpg', '34186.jpg', '54896.jpg', '38958.jpg', '34025.jpg', '34031.jpg', '37538.jpg', '31149.jpg', '34019.jpg', '31161.jpg', '35461.jpg', '40954.jpg', '40983.jpg', '5422.jpg', '4728.jpg', '35887.jpg', '35893.jpg', '38347.jpg', '8338.jpg', '58458.jpg', '35878.jpg', '15570.jpg', '35875.jpg', '8335.jpg', '8321.jpg', '30716.jpg', '4725.jpg', '31150.jpg', '37521.jpg', '34028.jpg', '31144.jpg', '38941.jpg', '40150.jpg', '38955.jpg', '48242.jpg', '48256.jpg', '39336.jpg', '38996.jpg', '34174.jpg', '33141.jpg', '39861.jpg', '43698.jpg', '36206.jpg', '39860.jpg', '33140.jpg', '36004.jpg', '34175.jpg', '41298.jpg', '5214.jpg', '48257.jpg', '48243.jpg', '40151.jpg', '38954.jpg', '38940.jpg', '37534.jpg', '34029.jpg', '37520.jpg', '31151.jpg', '40958.jpg', '5412.jpg', '4730.jpg', '30717.jpg', '8320.jpg', '8334.jpg', '35874.jpg', '35876.jpg', '8322.jpg', '8336.jpg', '30715.jpg', '35889.jpg', '4726.jpg', '41305.jpg', '36199.jpg', '31147.jpg', '35453.jpg', '31153.jpg', '37522.jpg', '54907.jpg', '38956.jpg', '40153.jpg', '38942.jpg', '5216.jpg', '34188.jpg', '42778.jpg', '48241.jpg', '38995.jpg', '34177.jpg', '33142.jpg', '38765.jpg', '36748.jpg', '39862.jpg', '50195.jpg', '50194.jpg', '36211.jpg', '36205.jpg', '39863.jpg', '2746.jpg', '33143.jpg', '39320.jpg', '34176.jpg', '38994.jpg', '39334.jpg', '48240.jpg', '34189.jpg', '48254.jpg', '38943.jpg', '38957.jpg', '40152.jpg', '35452.jpg', '37523.jpg', '31152.jpg', '37537.jpg', '41304.jpg', '4727.jpg', '35888.jpg', '30714.jpg', '8337.jpg', '8323.jpg', '35877.jpg', '8327.jpg', '8333.jpg', '35873.jpg', '24995.jpg', '40988.jpg', '37533.jpg', '31156.jpg', '37527.jpg', '40977.jpg', '35456.jpg', '17807.jpg', '21580.jpg', '48250.jpg', '48244.jpg', '38953.jpg', '40142.jpg', '39318.jpg', '36003.jpg', '34172.jpg', '38984.jpg', '46731.jpg', '42594.jpg', '42595.jpg', '36200.jpg', '38985.jpg', '36002.jpg', '39331.jpg', '34173.jpg', '38991.jpg', '39319.jpg', '33146.jpg', '38952.jpg', '48245.jpg', '48251.jpg', '37526.jpg', '31157.jpg', '35457.jpg', '37532.jpg', '31143.jpg', '8332.jpg', '8326.jpg', '8330.jpg', '8324.jpg', '41303.jpg', '35455.jpg', '31155.jpg', '40974.jpg', '37524.jpg', '34039.jpg', '40960.jpg', '40948.jpg', '48247.jpg', '48253.jpg', '40141.jpg', '40155.jpg', '33144.jpg', '38987.jpg', '38993.jpg', '34171.jpg', '36000.jpg', '39333.jpg', '39864.jpg', '39858.jpg', '46732.jpg', '43689.jpg', '36202.jpg', '42583.jpg', '42582.jpg', '36203.jpg', '4325.jpg', '39859.jpg', '39865.jpg', '34170.jpg', '38992.jpg', '39332.jpg', '36001.jpg', '38986.jpg', '33145.jpg', '40154.jpg', '40140.jpg', '48252.jpg', '48246.jpg', '40949.jpg', '37531.jpg', '34038.jpg', '35440.jpg', '35454.jpg', '37525.jpg', '40975.jpg', '31154.jpg', '4721.jpg', '9952.jpg', '8319.jpg', '8325.jpg', '21838.jpg', '24940.jpg', '8331.jpg', '52127.jpg', '50718.jpg', '8356.jpg', '33283.jpg', '36310.jpg', '39745.jpg', '34261.jpg', '33254.jpg', '15046.jpg', '37595.jpg', '38936.jpg', '40133.jpg', '31090.jpg', '34103.jpg', '37378.jpg', '12846.jpg', '37344.jpg', '41985.jpg', '2727.jpg', '41991.jpg', '33308.jpg', '38249.jpg', '23133.jpg', '37620.jpg', '37621.jpg', '38248.jpg', '33309.jpg', '30600.jpg', '41012.jpg', '41990.jpg', '41748.jpg', '41984.jpg', '37345.jpg', '49843.jpg', '3809.jpg', '12847.jpg', '34102.jpg', '31091.jpg', '38937.jpg', '40132.jpg', '40126.jpg', '37543.jpg', '22628.jpg', '37594.jpg', '10671.jpg', '33255.jpg', '36311.jpg', '34260.jpg', '2691.jpg', '39750.jpg', '8357.jpg', '52132.jpg', '8341.jpg', '21848.jpg', '8355.jpg', '4209.jpg', '2693.jpg', '36313.jpg', '39752.jpg', '37596.jpg', '15045.jpg', '34060.jpg', '54958.jpg', '34048.jpg', '40130.jpg', '40124.jpg', '31093.jpg', '36717.jpg', '34100.jpg', '12845.jpg', '2724.jpg', '41992.jpg', '41986.jpg', '30602.jpg', '37623.jpg', '23130.jpg', '41979.jpg', '37622.jpg', '23131.jpg', '30603.jpg', '18170.jpg', '2719.jpg', '37187.jpg', '41011.jpg', '41987.jpg', '41993.jpg', '12844.jpg', '34101.jpg', '36716.jpg', '31092.jpg', '40125.jpg', '40131.jpg', '34049.jpg', '54959.jpg', '15044.jpg', '37597.jpg', '39753.jpg', '36312.jpg', '8354.jpg', '4208.jpg', '8340.jpg', '8350.jpg', '24909.jpg', '52121.jpg', '33252.jpg', '36316.jpg', '37593.jpg', '13343.jpg', '34059.jpg', '37222.jpg', '35435.jpg', '37544.jpg', '31109.jpg', '40928.jpg', '31096.jpg', '40135.jpg', '37342.jpg', '12840.jpg', '4191.jpg', '34105.jpg', '39838.jpg', '41983.jpg', '23135.jpg', '41968.jpg', '30612.jpg', '23134.jpg', '41969.jpg', '41982.jpg', '39839.jpg', '2720.jpg', '34104.jpg', '4190.jpg', '25035.jpg', '37343.jpg', '40134.jpg', '31097.jpg', '34689.jpg', '40929.jpg', '31108.jpg', '37545.jpg', '34058.jpg', '39756.jpg', '36317.jpg', '33253.jpg', '24908.jpg', '52120.jpg', '8351.jpg', '21858.jpg', '4219.jpg', '8353.jpg', '52122.jpg', '31446.jpg', '39754.jpg', '2695.jpg', '36315.jpg', '10649.jpg', '34099.jpg', '37547.jpg', '37221.jpg', '22638.jpg', '38884.jpg', '40136.jpg', '37341.jpg', '29157.jpg', '4192.jpg', '41980.jpg', '2722.jpg', '41994.jpg', '35998.jpg', '37625.jpg', '41957.jpg', '37624.jpg', '35999.jpg', '41981.jpg', '18176.jpg', '3818.jpg', '40137.jpg', '31094.jpg', '37220.jpg', '34098.jpg', '2694.jpg', '36314.jpg', '33278.jpg', '21873.jpg', '24937.jpg']\n"
     ]
    }
   ],
   "source": [
    "import os\n",
    "\n",
    "dir_path='data/Apparel/Boys/Images/images_with_product_ids'\n",
    "img_list=os.listdir(dir_path)\n",
    "print(img_list)"
   ]
  },
  {
   "cell_type": "code",
   "execution_count": null,
   "metadata": {
    "id": "P7xuYOuFsnwV"
   },
   "outputs": [
    {
     "name": "stdout",
     "output_type": "stream",
     "text": [
      "759\n"
     ]
    }
   ],
   "source": [
    "print(len(img_list))"
   ]
  },
  {
   "cell_type": "code",
   "execution_count": null,
   "metadata": {
    "id": "xmdAkLsQu_9O"
   },
   "outputs": [],
   "source": [
    "from tqdm import tqdm\n",
    "\n",
    "feature_list = []\n",
    "\n",
    "for img_file in tqdm(img_list, desc='Extracting features'):\n",
    "    features = extract_features(os.path.join(dir_path, img_file), model)\n",
    "    feature_list.append(features)\n",
    "\n",
    "pickle.dump(feature_list,open('embeddings.pkl','wb'))\n",
    "pickle.dump(img_list,open('filenames.pkl','wb'))"
   ]
  },
  {
   "cell_type": "code",
   "execution_count": null,
   "metadata": {
    "id": "RJzcWkhi-A2L"
   },
   "outputs": [],
   "source": [
    "import pickle\n",
    "from tensorflow.keras.preprocessing import image\n",
    "\n",
    "feature_list=pickle.load(open('embeddings.pkl','rb'))\n",
    "filenames=pickle.load(open('filenames.pkl','rb'))\n",
    "#print(np.array(feature_list).shape)\n",
    "img=image.load_img('/content/Test_sample/18170.jpg',target_size=(224,224))\n",
    "img_arr=image.img_to_array(img)\n",
    "expanded_arr=np.expand_dims(img_arr,axis=0)\n",
    "preprocessing_img=preprocess_input(expanded_arr)\n",
    "result=model.predict(preprocessing_img).flatten()\n",
    "normalized_result=result/norm(norm(result))\n",
    "\n",
    "print((normalized_result).shape)"
   ]
  },
  {
   "cell_type": "code",
   "execution_count": null,
   "metadata": {
    "id": "aF5RWN7zKcCQ"
   },
   "outputs": [],
   "source": [
    "from sklearn.neighbors import NearestNeighbors\n",
    "\n",
    "neighbors=NearestNeighbors(n_neighbors=6, algorithm='brute', metric='euclidean')\n",
    "neighbors.fit(feature_list)\n",
    "\n",
    "distances,indices= neighbors.kneighbors([normalized_result])\n",
    "\n",
    "print(distances,indices,sep='\\n')\n",
    "\n"
   ]
  },
  {
   "cell_type": "code",
   "execution_count": null,
   "metadata": {
    "id": "EJ0HONRQM6oV"
   },
   "outputs": [],
   "source": [
    "%pip install streamlit"
   ]
  },
  {
   "cell_type": "code",
   "execution_count": null,
   "metadata": {
    "id": "KcgyZjDINZgO"
   },
   "outputs": [],
   "source": [
    "\n"
   ]
  },
  {
   "cell_type": "code",
   "execution_count": null,
   "metadata": {
    "id": "vQ7_RACFPXdd"
   },
   "outputs": [],
   "source": [
    "%%writefile main.py\n",
    "\n",
    "import streamlit as st\n",
    "import os\n",
    "from PIL import Image\n",
    "import pickle\n",
    "import numpy as np\n",
    "import tensorflow\n",
    "from tensorflow.keras.preprocessing import image\n",
    "from tensorflow.keras.layers import GlobalMaxPooling2D\n",
    "from tensorflow.keras.applications.resnet50 import ResNet50,preprocess_input\n",
    "from sklearn.neighbors import NearestNeighbors\n",
    "from numpy.linalg import norm\n",
    "\n",
    "\n",
    "\n",
    "feature_list=pickle.load(open('embeddings.pkl','rb'))\n",
    "filenames=pickle.load(open('filenames.pkl','rb'))\n",
    "\n",
    "model=ResNet50(weights='imagenet',include_top=False,input_shape=(224,224,3))\n",
    "model.trainable=False\n",
    "\n",
    "model=tensorflow.keras.Sequential([\n",
    "    model,\n",
    "    GlobalMaxPooling2D()\n",
    "])\n",
    "\n",
    "st.write('Fashion Recommender System')\n",
    "def save_uploaded_file(uploaded_file):\n",
    "  try:\n",
    "    #here we need to make uploads directory\n",
    "    with open(os.path.join('uploads',uploaded_file.name),'wb') as f:\n",
    "      f.write(uploaded_file.getbuffer())\n",
    "    return 1\n",
    "  except:\n",
    "    return 0\n",
    "\n",
    "def feature_extraction(img_path,model):\n",
    "  img=image.load_img(img_path,target_size=(224,224))\n",
    "  img_arr=image.img_to_array(img)\n",
    "  expanded_arr=np.expand_dims(img_arr,axis=0)\n",
    "  preprocessing_img=preprocess_input(expanded_arr)\n",
    "  result=model.predict(preprocessing_img).flatten()\n",
    "  normalized_result=result/norm(norm(result))\n",
    "\n",
    "  return normalized_result\n",
    "\n",
    "def recommend(features,feature_list):\n",
    "  neighbors=NearestNeighbors(n_neighbors=6, algorithm='brute', metric='euclidean')\n",
    "  neighbors.fit(feature_list)\n",
    "  distances,indices= neighbors.kneighbors([features])\n",
    "  return indices"
   ]
  },
  {
   "cell_type": "code",
   "execution_count": null,
   "metadata": {
    "id": "Y9nCDYIMPvmJ"
   },
   "outputs": [],
   "source": [
    "%npm install localtunnel"
   ]
  },
  {
   "cell_type": "code",
   "execution_count": null,
   "metadata": {
    "id": "xEylnwqsRs33"
   },
   "outputs": [],
   "source": []
  },
  {
   "cell_type": "code",
   "execution_count": null,
   "metadata": {
    "id": "rck-_527QeV8"
   },
   "outputs": [
    {
     "ename": "OSError",
     "evalue": "Background processes not supported.",
     "output_type": "error",
     "traceback": [
      "\u001b[0;31m---------------------------------------------------------------------------\u001b[0m",
      "\u001b[0;31mOSError\u001b[0m                                   Traceback (most recent call last)",
      "Cell \u001b[0;32mIn[17], line 1\u001b[0m\n\u001b[0;32m----> 1\u001b[0m get_ipython()\u001b[38;5;241m.\u001b[39msystem(\u001b[38;5;124m'\u001b[39m\u001b[38;5;124mstreamlit run main.py &>/content/logs.txt &\u001b[39m\u001b[38;5;124m'\u001b[39m)\n",
      "File \u001b[0;32m~/anaconda3/lib/python3.11/site-packages/ipykernel/zmqshell.py:639\u001b[0m, in \u001b[0;36mZMQInteractiveShell.system_piped\u001b[0;34m(self, cmd)\u001b[0m\n\u001b[1;32m    632\u001b[0m \u001b[38;5;28;01mif\u001b[39;00m cmd\u001b[38;5;241m.\u001b[39mrstrip()\u001b[38;5;241m.\u001b[39mendswith(\u001b[38;5;124m\"\u001b[39m\u001b[38;5;124m&\u001b[39m\u001b[38;5;124m\"\u001b[39m):\n\u001b[1;32m    633\u001b[0m     \u001b[38;5;66;03m# this is *far* from a rigorous test\u001b[39;00m\n\u001b[1;32m    634\u001b[0m     \u001b[38;5;66;03m# We do not support backgrounding processes because we either use\u001b[39;00m\n\u001b[1;32m    635\u001b[0m     \u001b[38;5;66;03m# pexpect or pipes to read from.  Users can always just call\u001b[39;00m\n\u001b[1;32m    636\u001b[0m     \u001b[38;5;66;03m# os.system() or use ip.system=ip.system_raw\u001b[39;00m\n\u001b[1;32m    637\u001b[0m     \u001b[38;5;66;03m# if they really want a background process.\u001b[39;00m\n\u001b[1;32m    638\u001b[0m     msg \u001b[38;5;241m=\u001b[39m \u001b[38;5;124m\"\u001b[39m\u001b[38;5;124mBackground processes not supported.\u001b[39m\u001b[38;5;124m\"\u001b[39m\n\u001b[0;32m--> 639\u001b[0m     \u001b[38;5;28;01mraise\u001b[39;00m \u001b[38;5;167;01mOSError\u001b[39;00m(msg)\n\u001b[1;32m    641\u001b[0m \u001b[38;5;66;03m# we explicitly do NOT return the subprocess status code, because\u001b[39;00m\n\u001b[1;32m    642\u001b[0m \u001b[38;5;66;03m# a non-None value would trigger :func:`sys.displayhook` calls.\u001b[39;00m\n\u001b[1;32m    643\u001b[0m \u001b[38;5;66;03m# Instead, we store the exit_code in user_ns.\u001b[39;00m\n\u001b[1;32m    644\u001b[0m \u001b[38;5;66;03m# Also, protect system call from UNC paths on Windows here too\u001b[39;00m\n\u001b[1;32m    645\u001b[0m \u001b[38;5;66;03m# as is done in InteractiveShell.system_raw\u001b[39;00m\n\u001b[1;32m    646\u001b[0m \u001b[38;5;28;01mif\u001b[39;00m sys\u001b[38;5;241m.\u001b[39mplatform \u001b[38;5;241m==\u001b[39m \u001b[38;5;124m\"\u001b[39m\u001b[38;5;124mwin32\u001b[39m\u001b[38;5;124m\"\u001b[39m:\n",
      "\u001b[0;31mOSError\u001b[0m: Background processes not supported."
     ]
    }
   ],
   "source": [
    "%streamlit run main.py &>/content/logs.txt &"
   ]
  },
  {
   "cell_type": "code",
   "execution_count": null,
   "metadata": {
    "id": "7FFGkOEHQj4H"
   },
   "outputs": [],
   "source": [
    "%npx localtunnel --port 8501 & curl ipv4.icanhazip.com"
   ]
  },
  {
   "cell_type": "code",
   "execution_count": null,
   "metadata": {
    "id": "jiKifVnIQnZq"
   },
   "outputs": [],
   "source": [
    "import streamlit as st\n",
    "\n",
    "uploaded_file = st.file_uploader(\"Choose an image\")\n",
    "if uploaded_file is not None:\n",
    "  if save_uploaded_file(uploaded_file):\n",
    "    # file has been uploaded\n",
    "    display_image = Image.open(uploaded_file)\n",
    "\n",
    "    #display the file\n",
    "    st.image(display_image)\n",
    "\n",
    "    #feature extract\n",
    "    feature_extraction(os.path.join(\"uploads\",uploaded_file.name),model)\n",
    "    st.text(features)\n",
    "\n",
    "    #recommendation\n",
    "    indices = recommend(features,feature_list)\n",
    "\n",
    "    #show\n",
    "\n",
    "    col1,col2,col3,col4,col5 = st.beta_columns(5)\n",
    "\n",
    "    with col1:\n",
    "      st.image(filenames[indices[0][0]])\n",
    "    with col2:\n",
    "      st.image(filenames[indices[0][1]])\n",
    "    with col3:\n",
    "      st.image(filenames[indices[0][2]])\n",
    "    with col4:\n",
    "      st.image(filenames[indices[0][3]])\n",
    "    with col5:\n",
    "      st.image(filenames[indices[0][4]])\n",
    "\n",
    "  else:\n",
    "    st.header(\"Some error occured in file upload\")"
   ]
  },
  {
   "cell_type": "code",
   "execution_count": null,
   "metadata": {},
   "outputs": [
    {
     "name": "stdout",
     "output_type": "stream",
     "text": [
      "\r\n",
      "      👋 \u001b[1mWelcome to Streamlit!\u001b[0m\r\n",
      "\r\n",
      "      If you’d like to receive helpful onboarding emails, news, offers, promotions,\r\n",
      "      and the occasional swag, please enter your email address below. Otherwise,\r\n",
      "      leave this field blank.\r\n",
      "\r\n",
      "      \u001b[34mEmail: \u001b[0m "
     ]
    }
   ],
   "source": [
    "%streamlit run /Users/karnavshah/anaconda3/lib/python3.11/site-packages/ipykernel_launcher.py"
   ]
  },
  {
   "cell_type": "code",
   "execution_count": null,
   "metadata": {},
   "outputs": [],
   "source": []
  }
 ],
 "metadata": {
  "colab": {
   "provenance": []
  },
  "kernelspec": {
   "display_name": "Python 3 (ipykernel)",
   "language": "python",
   "name": "python3"
  },
  "language_info": {
   "codemirror_mode": {
    "name": "ipython",
    "version": 3
   },
   "file_extension": ".py",
   "mimetype": "text/x-python",
   "name": "python",
   "nbconvert_exporter": "python",
   "pygments_lexer": "ipython3",
   "version": "3.11.5"
  }
 },
 "nbformat": 4,
 "nbformat_minor": 1
}
